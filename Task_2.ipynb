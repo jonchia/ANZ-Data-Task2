{
 "cells": [
  {
   "cell_type": "markdown",
   "metadata": {},
   "source": [
    "### The task:\n",
    "1. Identify the annual salary for each customer\n",
    "2. Explore the correlation between annual salary and various customer attribute (e.g. age)\n",
    "3. Build a simple regression model to predict the annual salary for each customer \n",
    "4. Build a decision-tree based model to predict salary\n",
    "5. Which model is better? "
   ]
  },
  {
   "cell_type": "code",
   "execution_count": 1,
   "metadata": {},
   "outputs": [],
   "source": [
    "import numpy as np\n",
    "import pandas as pd\n",
    "from sklearn.linear_model import LinearRegression\n",
    "from sklearn.tree import DecisionTreeClassifier, DecisionTreeRegressor\n",
    "from sklearn.model_selection import train_test_split"
   ]
  },
  {
   "cell_type": "code",
   "execution_count": 2,
   "metadata": {},
   "outputs": [
    {
     "data": {
      "text/plain": [
       "(12043, 23)"
      ]
     },
     "execution_count": 2,
     "metadata": {},
     "output_type": "execute_result"
    }
   ],
   "source": [
    "df = pd.read_excel(\"ANZ synthesised transaction dataset.xlsx\")\n",
    "df.shape"
   ]
  },
  {
   "cell_type": "markdown",
   "metadata": {},
   "source": [
    "There are 12,0403 rows of transactions by 23 columns of data"
   ]
  },
  {
   "cell_type": "code",
   "execution_count": 3,
   "metadata": {},
   "outputs": [
    {
     "data": {
      "text/html": [
       "<div>\n",
       "<style scoped>\n",
       "    .dataframe tbody tr th:only-of-type {\n",
       "        vertical-align: middle;\n",
       "    }\n",
       "\n",
       "    .dataframe tbody tr th {\n",
       "        vertical-align: top;\n",
       "    }\n",
       "\n",
       "    .dataframe thead th {\n",
       "        text-align: right;\n",
       "    }\n",
       "</style>\n",
       "<table border=\"1\" class=\"dataframe\">\n",
       "  <thead>\n",
       "    <tr style=\"text-align: right;\">\n",
       "      <th></th>\n",
       "      <th>status</th>\n",
       "      <th>card_present_flag</th>\n",
       "      <th>bpay_biller_code</th>\n",
       "      <th>account</th>\n",
       "      <th>currency</th>\n",
       "      <th>long_lat</th>\n",
       "      <th>txn_description</th>\n",
       "      <th>merchant_id</th>\n",
       "      <th>merchant_code</th>\n",
       "      <th>first_name</th>\n",
       "      <th>...</th>\n",
       "      <th>age</th>\n",
       "      <th>merchant_suburb</th>\n",
       "      <th>merchant_state</th>\n",
       "      <th>extraction</th>\n",
       "      <th>amount</th>\n",
       "      <th>transaction_id</th>\n",
       "      <th>country</th>\n",
       "      <th>customer_id</th>\n",
       "      <th>merchant_long_lat</th>\n",
       "      <th>movement</th>\n",
       "    </tr>\n",
       "  </thead>\n",
       "  <tbody>\n",
       "    <tr>\n",
       "      <th>0</th>\n",
       "      <td>authorized</td>\n",
       "      <td>1.0</td>\n",
       "      <td>NaN</td>\n",
       "      <td>ACC-1598451071</td>\n",
       "      <td>AUD</td>\n",
       "      <td>153.41 -27.95</td>\n",
       "      <td>POS</td>\n",
       "      <td>81c48296-73be-44a7-befa-d053f48ce7cd</td>\n",
       "      <td>NaN</td>\n",
       "      <td>Diana</td>\n",
       "      <td>...</td>\n",
       "      <td>26</td>\n",
       "      <td>Ashmore</td>\n",
       "      <td>QLD</td>\n",
       "      <td>2018-08-01T01:01:15.000+0000</td>\n",
       "      <td>16.25</td>\n",
       "      <td>a623070bfead4541a6b0fff8a09e706c</td>\n",
       "      <td>Australia</td>\n",
       "      <td>CUS-2487424745</td>\n",
       "      <td>153.38 -27.99</td>\n",
       "      <td>debit</td>\n",
       "    </tr>\n",
       "    <tr>\n",
       "      <th>1</th>\n",
       "      <td>authorized</td>\n",
       "      <td>0.0</td>\n",
       "      <td>NaN</td>\n",
       "      <td>ACC-1598451071</td>\n",
       "      <td>AUD</td>\n",
       "      <td>153.41 -27.95</td>\n",
       "      <td>SALES-POS</td>\n",
       "      <td>830a451c-316e-4a6a-bf25-e37caedca49e</td>\n",
       "      <td>NaN</td>\n",
       "      <td>Diana</td>\n",
       "      <td>...</td>\n",
       "      <td>26</td>\n",
       "      <td>Sydney</td>\n",
       "      <td>NSW</td>\n",
       "      <td>2018-08-01T01:13:45.000+0000</td>\n",
       "      <td>14.19</td>\n",
       "      <td>13270a2a902145da9db4c951e04b51b9</td>\n",
       "      <td>Australia</td>\n",
       "      <td>CUS-2487424745</td>\n",
       "      <td>151.21 -33.87</td>\n",
       "      <td>debit</td>\n",
       "    </tr>\n",
       "  </tbody>\n",
       "</table>\n",
       "<p>2 rows × 23 columns</p>\n",
       "</div>"
      ],
      "text/plain": [
       "       status  card_present_flag bpay_biller_code         account currency  \\\n",
       "0  authorized                1.0              NaN  ACC-1598451071      AUD   \n",
       "1  authorized                0.0              NaN  ACC-1598451071      AUD   \n",
       "\n",
       "        long_lat txn_description                           merchant_id  \\\n",
       "0  153.41 -27.95             POS  81c48296-73be-44a7-befa-d053f48ce7cd   \n",
       "1  153.41 -27.95       SALES-POS  830a451c-316e-4a6a-bf25-e37caedca49e   \n",
       "\n",
       "   merchant_code first_name   ...     age merchant_suburb merchant_state  \\\n",
       "0            NaN      Diana   ...      26         Ashmore            QLD   \n",
       "1            NaN      Diana   ...      26          Sydney            NSW   \n",
       "\n",
       "                     extraction amount                    transaction_id  \\\n",
       "0  2018-08-01T01:01:15.000+0000  16.25  a623070bfead4541a6b0fff8a09e706c   \n",
       "1  2018-08-01T01:13:45.000+0000  14.19  13270a2a902145da9db4c951e04b51b9   \n",
       "\n",
       "     country     customer_id merchant_long_lat movement  \n",
       "0  Australia  CUS-2487424745     153.38 -27.99    debit  \n",
       "1  Australia  CUS-2487424745     151.21 -33.87    debit  \n",
       "\n",
       "[2 rows x 23 columns]"
      ]
     },
     "execution_count": 3,
     "metadata": {},
     "output_type": "execute_result"
    }
   ],
   "source": [
    "df.head(2)"
   ]
  },
  {
   "cell_type": "markdown",
   "metadata": {},
   "source": [
    "### Task 1: Identify the annual salary for each customer"
   ]
  },
  {
   "cell_type": "code",
   "execution_count": 4,
   "metadata": {},
   "outputs": [
    {
     "data": {
      "text/plain": [
       "array(['POS', 'SALES-POS', 'PAYMENT', 'INTER BANK', 'PAY/SALARY',\n",
       "       'PHONE BANK'], dtype=object)"
      ]
     },
     "execution_count": 4,
     "metadata": {},
     "output_type": "execute_result"
    }
   ],
   "source": [
    "df[\"txn_description\"].unique()"
   ]
  },
  {
   "cell_type": "code",
   "execution_count": 5,
   "metadata": {},
   "outputs": [],
   "source": [
    "# Extracting only pay or salary transactions\n",
    "df_group = df[df[\"txn_description\"]==\"PAY/SALARY\"].groupby(\"customer_id\").mean()"
   ]
  },
  {
   "cell_type": "code",
   "execution_count": 6,
   "metadata": {},
   "outputs": [],
   "source": [
    "# Appending the annual salary to a new column in df\n",
    "salary = []\n",
    "\n",
    "for customer_id in df[\"customer_id\"]:\n",
    "    salary.append(int(df_group.loc[customer_id][\"amount\"]))\n",
    "\n",
    "df[\"annual_salary\"] = salary"
   ]
  },
  {
   "cell_type": "code",
   "execution_count": 7,
   "metadata": {},
   "outputs": [
    {
     "data": {
      "text/html": [
       "<div>\n",
       "<style scoped>\n",
       "    .dataframe tbody tr th:only-of-type {\n",
       "        vertical-align: middle;\n",
       "    }\n",
       "\n",
       "    .dataframe tbody tr th {\n",
       "        vertical-align: top;\n",
       "    }\n",
       "\n",
       "    .dataframe thead th {\n",
       "        text-align: right;\n",
       "    }\n",
       "</style>\n",
       "<table border=\"1\" class=\"dataframe\">\n",
       "  <thead>\n",
       "    <tr style=\"text-align: right;\">\n",
       "      <th></th>\n",
       "      <th>card_present_flag</th>\n",
       "      <th>merchant_code</th>\n",
       "      <th>balance</th>\n",
       "      <th>age</th>\n",
       "      <th>amount</th>\n",
       "      <th>annual_salary</th>\n",
       "    </tr>\n",
       "    <tr>\n",
       "      <th>customer_id</th>\n",
       "      <th></th>\n",
       "      <th></th>\n",
       "      <th></th>\n",
       "      <th></th>\n",
       "      <th></th>\n",
       "      <th></th>\n",
       "    </tr>\n",
       "  </thead>\n",
       "  <tbody>\n",
       "    <tr>\n",
       "      <th>CUS-1005756958</th>\n",
       "      <td>0.812500</td>\n",
       "      <td>0.0</td>\n",
       "      <td>2275.852055</td>\n",
       "      <td>53</td>\n",
       "      <td>222.862603</td>\n",
       "      <td>970</td>\n",
       "    </tr>\n",
       "    <tr>\n",
       "      <th>CUS-1117979751</th>\n",
       "      <td>0.826923</td>\n",
       "      <td>0.0</td>\n",
       "      <td>9829.929000</td>\n",
       "      <td>21</td>\n",
       "      <td>339.843700</td>\n",
       "      <td>3578</td>\n",
       "    </tr>\n",
       "    <tr>\n",
       "      <th>CUS-1140341822</th>\n",
       "      <td>0.815385</td>\n",
       "      <td>0.0</td>\n",
       "      <td>5699.212250</td>\n",
       "      <td>28</td>\n",
       "      <td>212.632500</td>\n",
       "      <td>1916</td>\n",
       "    </tr>\n",
       "    <tr>\n",
       "      <th>CUS-1147642491</th>\n",
       "      <td>0.750000</td>\n",
       "      <td>0.0</td>\n",
       "      <td>9032.841186</td>\n",
       "      <td>34</td>\n",
       "      <td>245.600169</td>\n",
       "      <td>1711</td>\n",
       "    </tr>\n",
       "    <tr>\n",
       "      <th>CUS-1196156254</th>\n",
       "      <td>0.785276</td>\n",
       "      <td>0.0</td>\n",
       "      <td>22272.433755</td>\n",
       "      <td>34</td>\n",
       "      <td>147.145796</td>\n",
       "      <td>3903</td>\n",
       "    </tr>\n",
       "  </tbody>\n",
       "</table>\n",
       "</div>"
      ],
      "text/plain": [
       "                card_present_flag  merchant_code       balance  age  \\\n",
       "customer_id                                                           \n",
       "CUS-1005756958           0.812500            0.0   2275.852055   53   \n",
       "CUS-1117979751           0.826923            0.0   9829.929000   21   \n",
       "CUS-1140341822           0.815385            0.0   5699.212250   28   \n",
       "CUS-1147642491           0.750000            0.0   9032.841186   34   \n",
       "CUS-1196156254           0.785276            0.0  22272.433755   34   \n",
       "\n",
       "                    amount  annual_salary  \n",
       "customer_id                                \n",
       "CUS-1005756958  222.862603            970  \n",
       "CUS-1117979751  339.843700           3578  \n",
       "CUS-1140341822  212.632500           1916  \n",
       "CUS-1147642491  245.600169           1711  \n",
       "CUS-1196156254  147.145796           3903  "
      ]
     },
     "execution_count": 7,
     "metadata": {},
     "output_type": "execute_result"
    }
   ],
   "source": [
    "df_salary = df.groupby(\"customer_id\").mean()\n",
    "df_salary.head()"
   ]
  },
  {
   "cell_type": "markdown",
   "metadata": {},
   "source": [
    "### Task 2: Correlation between variables"
   ]
  },
  {
   "cell_type": "code",
   "execution_count": 8,
   "metadata": {},
   "outputs": [
    {
     "data": {
      "text/html": [
       "<style  type=\"text/css\" >\n",
       "    #T_034dac76_8225_11eb_9c2a_04d3b04ac936row0_col0 {\n",
       "            background-color:  #b40426;\n",
       "        }    #T_034dac76_8225_11eb_9c2a_04d3b04ac936row0_col1 {\n",
       "            background-color:  #3b4cc0;\n",
       "        }    #T_034dac76_8225_11eb_9c2a_04d3b04ac936row0_col2 {\n",
       "            background-color:  #3b4cc0;\n",
       "        }    #T_034dac76_8225_11eb_9c2a_04d3b04ac936row0_col3 {\n",
       "            background-color:  #5f7fe8;\n",
       "        }    #T_034dac76_8225_11eb_9c2a_04d3b04ac936row0_col4 {\n",
       "            background-color:  #3b4cc0;\n",
       "        }    #T_034dac76_8225_11eb_9c2a_04d3b04ac936row0_col5 {\n",
       "            background-color:  #3b4cc0;\n",
       "        }    #T_034dac76_8225_11eb_9c2a_04d3b04ac936row1_col0 {\n",
       "            background-color:  #3b4cc0;\n",
       "        }    #T_034dac76_8225_11eb_9c2a_04d3b04ac936row1_col1 {\n",
       "            background-color:  #3b4cc0;\n",
       "        }    #T_034dac76_8225_11eb_9c2a_04d3b04ac936row1_col2 {\n",
       "            background-color:  #3b4cc0;\n",
       "        }    #T_034dac76_8225_11eb_9c2a_04d3b04ac936row1_col3 {\n",
       "            background-color:  #3b4cc0;\n",
       "        }    #T_034dac76_8225_11eb_9c2a_04d3b04ac936row1_col4 {\n",
       "            background-color:  #3b4cc0;\n",
       "        }    #T_034dac76_8225_11eb_9c2a_04d3b04ac936row1_col5 {\n",
       "            background-color:  #3b4cc0;\n",
       "        }    #T_034dac76_8225_11eb_9c2a_04d3b04ac936row2_col0 {\n",
       "            background-color:  #85a8fc;\n",
       "        }    #T_034dac76_8225_11eb_9c2a_04d3b04ac936row2_col1 {\n",
       "            background-color:  #3b4cc0;\n",
       "        }    #T_034dac76_8225_11eb_9c2a_04d3b04ac936row2_col2 {\n",
       "            background-color:  #b40426;\n",
       "        }    #T_034dac76_8225_11eb_9c2a_04d3b04ac936row2_col3 {\n",
       "            background-color:  #a6c4fe;\n",
       "        }    #T_034dac76_8225_11eb_9c2a_04d3b04ac936row2_col4 {\n",
       "            background-color:  #cad8ef;\n",
       "        }    #T_034dac76_8225_11eb_9c2a_04d3b04ac936row2_col5 {\n",
       "            background-color:  #a1c0ff;\n",
       "        }    #T_034dac76_8225_11eb_9c2a_04d3b04ac936row3_col0 {\n",
       "            background-color:  #81a4fb;\n",
       "        }    #T_034dac76_8225_11eb_9c2a_04d3b04ac936row3_col1 {\n",
       "            background-color:  #3b4cc0;\n",
       "        }    #T_034dac76_8225_11eb_9c2a_04d3b04ac936row3_col2 {\n",
       "            background-color:  #84a7fc;\n",
       "        }    #T_034dac76_8225_11eb_9c2a_04d3b04ac936row3_col3 {\n",
       "            background-color:  #b40426;\n",
       "        }    #T_034dac76_8225_11eb_9c2a_04d3b04ac936row3_col4 {\n",
       "            background-color:  #b2ccfb;\n",
       "        }    #T_034dac76_8225_11eb_9c2a_04d3b04ac936row3_col5 {\n",
       "            background-color:  #3d50c3;\n",
       "        }    #T_034dac76_8225_11eb_9c2a_04d3b04ac936row4_col0 {\n",
       "            background-color:  #3b4cc0;\n",
       "        }    #T_034dac76_8225_11eb_9c2a_04d3b04ac936row4_col1 {\n",
       "            background-color:  #3b4cc0;\n",
       "        }    #T_034dac76_8225_11eb_9c2a_04d3b04ac936row4_col2 {\n",
       "            background-color:  #92b4fe;\n",
       "        }    #T_034dac76_8225_11eb_9c2a_04d3b04ac936row4_col3 {\n",
       "            background-color:  #96b7ff;\n",
       "        }    #T_034dac76_8225_11eb_9c2a_04d3b04ac936row4_col4 {\n",
       "            background-color:  #b40426;\n",
       "        }    #T_034dac76_8225_11eb_9c2a_04d3b04ac936row4_col5 {\n",
       "            background-color:  #bad0f8;\n",
       "        }    #T_034dac76_8225_11eb_9c2a_04d3b04ac936row5_col0 {\n",
       "            background-color:  #5a78e4;\n",
       "        }    #T_034dac76_8225_11eb_9c2a_04d3b04ac936row5_col1 {\n",
       "            background-color:  #3b4cc0;\n",
       "        }    #T_034dac76_8225_11eb_9c2a_04d3b04ac936row5_col2 {\n",
       "            background-color:  #7a9df8;\n",
       "        }    #T_034dac76_8225_11eb_9c2a_04d3b04ac936row5_col3 {\n",
       "            background-color:  #3b4cc0;\n",
       "        }    #T_034dac76_8225_11eb_9c2a_04d3b04ac936row5_col4 {\n",
       "            background-color:  #cedaeb;\n",
       "        }    #T_034dac76_8225_11eb_9c2a_04d3b04ac936row5_col5 {\n",
       "            background-color:  #b40426;\n",
       "        }</style>  \n",
       "<table id=\"T_034dac76_8225_11eb_9c2a_04d3b04ac936\" > \n",
       "<thead>    <tr> \n",
       "        <th class=\"blank level0\" ></th> \n",
       "        <th class=\"col_heading level0 col0\" >card_present_flag</th> \n",
       "        <th class=\"col_heading level0 col1\" >merchant_code</th> \n",
       "        <th class=\"col_heading level0 col2\" >balance</th> \n",
       "        <th class=\"col_heading level0 col3\" >age</th> \n",
       "        <th class=\"col_heading level0 col4\" >amount</th> \n",
       "        <th class=\"col_heading level0 col5\" >annual_salary</th> \n",
       "    </tr></thead> \n",
       "<tbody>    <tr> \n",
       "        <th id=\"T_034dac76_8225_11eb_9c2a_04d3b04ac936level0_row0\" class=\"row_heading level0 row0\" >card_present_flag</th> \n",
       "        <td id=\"T_034dac76_8225_11eb_9c2a_04d3b04ac936row0_col0\" class=\"data row0 col0\" >1</td> \n",
       "        <td id=\"T_034dac76_8225_11eb_9c2a_04d3b04ac936row0_col1\" class=\"data row0 col1\" >nan</td> \n",
       "        <td id=\"T_034dac76_8225_11eb_9c2a_04d3b04ac936row0_col2\" class=\"data row0 col2\" >0.012</td> \n",
       "        <td id=\"T_034dac76_8225_11eb_9c2a_04d3b04ac936row0_col3\" class=\"data row0 col3\" >-0.0013</td> \n",
       "        <td id=\"T_034dac76_8225_11eb_9c2a_04d3b04ac936row0_col4\" class=\"data row0 col4\" >-0.28</td> \n",
       "        <td id=\"T_034dac76_8225_11eb_9c2a_04d3b04ac936row0_col5\" class=\"data row0 col5\" >-0.15</td> \n",
       "    </tr>    <tr> \n",
       "        <th id=\"T_034dac76_8225_11eb_9c2a_04d3b04ac936level0_row1\" class=\"row_heading level0 row1\" >merchant_code</th> \n",
       "        <td id=\"T_034dac76_8225_11eb_9c2a_04d3b04ac936row1_col0\" class=\"data row1 col0\" >nan</td> \n",
       "        <td id=\"T_034dac76_8225_11eb_9c2a_04d3b04ac936row1_col1\" class=\"data row1 col1\" >nan</td> \n",
       "        <td id=\"T_034dac76_8225_11eb_9c2a_04d3b04ac936row1_col2\" class=\"data row1 col2\" >nan</td> \n",
       "        <td id=\"T_034dac76_8225_11eb_9c2a_04d3b04ac936row1_col3\" class=\"data row1 col3\" >nan</td> \n",
       "        <td id=\"T_034dac76_8225_11eb_9c2a_04d3b04ac936row1_col4\" class=\"data row1 col4\" >nan</td> \n",
       "        <td id=\"T_034dac76_8225_11eb_9c2a_04d3b04ac936row1_col5\" class=\"data row1 col5\" >nan</td> \n",
       "    </tr>    <tr> \n",
       "        <th id=\"T_034dac76_8225_11eb_9c2a_04d3b04ac936level0_row2\" class=\"row_heading level0 row2\" >balance</th> \n",
       "        <td id=\"T_034dac76_8225_11eb_9c2a_04d3b04ac936row2_col0\" class=\"data row2 col0\" >0.012</td> \n",
       "        <td id=\"T_034dac76_8225_11eb_9c2a_04d3b04ac936row2_col1\" class=\"data row2 col1\" >nan</td> \n",
       "        <td id=\"T_034dac76_8225_11eb_9c2a_04d3b04ac936row2_col2\" class=\"data row2 col2\" >1</td> \n",
       "        <td id=\"T_034dac76_8225_11eb_9c2a_04d3b04ac936row2_col3\" class=\"data row2 col3\" >0.23</td> \n",
       "        <td id=\"T_034dac76_8225_11eb_9c2a_04d3b04ac936row2_col4\" class=\"data row2 col4\" >0.27</td> \n",
       "        <td id=\"T_034dac76_8225_11eb_9c2a_04d3b04ac936row2_col5\" class=\"data row2 col5\" >0.21</td> \n",
       "    </tr>    <tr> \n",
       "        <th id=\"T_034dac76_8225_11eb_9c2a_04d3b04ac936level0_row3\" class=\"row_heading level0 row3\" >age</th> \n",
       "        <td id=\"T_034dac76_8225_11eb_9c2a_04d3b04ac936row3_col0\" class=\"data row3 col0\" >-0.0013</td> \n",
       "        <td id=\"T_034dac76_8225_11eb_9c2a_04d3b04ac936row3_col1\" class=\"data row3 col1\" >nan</td> \n",
       "        <td id=\"T_034dac76_8225_11eb_9c2a_04d3b04ac936row3_col2\" class=\"data row3 col2\" >0.23</td> \n",
       "        <td id=\"T_034dac76_8225_11eb_9c2a_04d3b04ac936row3_col3\" class=\"data row3 col3\" >1</td> \n",
       "        <td id=\"T_034dac76_8225_11eb_9c2a_04d3b04ac936row3_col4\" class=\"data row3 col4\" >0.18</td> \n",
       "        <td id=\"T_034dac76_8225_11eb_9c2a_04d3b04ac936row3_col5\" class=\"data row3 col5\" >-0.14</td> \n",
       "    </tr>    <tr> \n",
       "        <th id=\"T_034dac76_8225_11eb_9c2a_04d3b04ac936level0_row4\" class=\"row_heading level0 row4\" >amount</th> \n",
       "        <td id=\"T_034dac76_8225_11eb_9c2a_04d3b04ac936row4_col0\" class=\"data row4 col0\" >-0.28</td> \n",
       "        <td id=\"T_034dac76_8225_11eb_9c2a_04d3b04ac936row4_col1\" class=\"data row4 col1\" >nan</td> \n",
       "        <td id=\"T_034dac76_8225_11eb_9c2a_04d3b04ac936row4_col2\" class=\"data row4 col2\" >0.27</td> \n",
       "        <td id=\"T_034dac76_8225_11eb_9c2a_04d3b04ac936row4_col3\" class=\"data row4 col3\" >0.18</td> \n",
       "        <td id=\"T_034dac76_8225_11eb_9c2a_04d3b04ac936row4_col4\" class=\"data row4 col4\" >1</td> \n",
       "        <td id=\"T_034dac76_8225_11eb_9c2a_04d3b04ac936row4_col5\" class=\"data row4 col5\" >0.29</td> \n",
       "    </tr>    <tr> \n",
       "        <th id=\"T_034dac76_8225_11eb_9c2a_04d3b04ac936level0_row5\" class=\"row_heading level0 row5\" >annual_salary</th> \n",
       "        <td id=\"T_034dac76_8225_11eb_9c2a_04d3b04ac936row5_col0\" class=\"data row5 col0\" >-0.15</td> \n",
       "        <td id=\"T_034dac76_8225_11eb_9c2a_04d3b04ac936row5_col1\" class=\"data row5 col1\" >nan</td> \n",
       "        <td id=\"T_034dac76_8225_11eb_9c2a_04d3b04ac936row5_col2\" class=\"data row5 col2\" >0.21</td> \n",
       "        <td id=\"T_034dac76_8225_11eb_9c2a_04d3b04ac936row5_col3\" class=\"data row5 col3\" >-0.14</td> \n",
       "        <td id=\"T_034dac76_8225_11eb_9c2a_04d3b04ac936row5_col4\" class=\"data row5 col4\" >0.29</td> \n",
       "        <td id=\"T_034dac76_8225_11eb_9c2a_04d3b04ac936row5_col5\" class=\"data row5 col5\" >1</td> \n",
       "    </tr></tbody> \n",
       "</table> "
      ],
      "text/plain": [
       "<pandas.io.formats.style.Styler at 0x1909e0e2be0>"
      ]
     },
     "execution_count": 8,
     "metadata": {},
     "output_type": "execute_result"
    }
   ],
   "source": [
    "corr = df_salary.corr()\n",
    "corr.style.background_gradient(cmap='coolwarm').set_precision(2)"
   ]
  },
  {
   "cell_type": "markdown",
   "metadata": {},
   "source": [
    "It can be seen that amount and annual_salary has the highest correlation of 0.29. \n",
    "* This suggests that an increase in annual_salary will increase the amount spent\n",
    "\n",
    "There is also a correlation between annual_salary and balance of 0.21.\n",
    "* This suggest that a higher annual salary will have a higher balance"
   ]
  },
  {
   "cell_type": "markdown",
   "metadata": {},
   "source": [
    "### Task 3: Regression model"
   ]
  },
  {
   "cell_type": "markdown",
   "metadata": {},
   "source": [
    "#### Simple Linear Regression - Model 1"
   ]
  },
  {
   "cell_type": "code",
   "execution_count": 9,
   "metadata": {},
   "outputs": [],
   "source": [
    "# X_train columns\n",
    "x = df_salary.drop(\"annual_salary\",axis=1)\n",
    "y = df_salary[\"annual_salary\"]"
   ]
  },
  {
   "cell_type": "code",
   "execution_count": 10,
   "metadata": {},
   "outputs": [],
   "source": [
    "# Create training and testing vars\n",
    "X_train, X_test, Y_train, Y_test = train_test_split(x, y, test_size = 0.2, random_state = 10)"
   ]
  },
  {
   "cell_type": "code",
   "execution_count": 11,
   "metadata": {},
   "outputs": [
    {
     "data": {
      "text/plain": [
       "array([2471.79881578, 2355.95764968, 5516.40875896, 2749.14617612,\n",
       "       2463.19874194, 2210.76713385, 1628.2118905 , 2426.7591228 ,\n",
       "       1832.71930055, 2092.26357951, 2122.33968281, 2750.21948899,\n",
       "       2590.35003469, 2563.97503629, 1829.3763517 , 1809.30374498,\n",
       "       2112.75645323, 1961.775454  , 1809.99591947, 1593.15760482])"
      ]
     },
     "execution_count": 11,
     "metadata": {},
     "output_type": "execute_result"
    }
   ],
   "source": [
    "linear_reg = LinearRegression()\n",
    "linear_reg.fit(X_train, Y_train)\n",
    "# Making prediction based off model\n",
    "linear_reg.predict(X_test)"
   ]
  },
  {
   "cell_type": "code",
   "execution_count": 12,
   "metadata": {},
   "outputs": [
    {
     "name": "stdout",
     "output_type": "stream",
     "text": [
      "Coefficient of determination: -0.3373658380895257\n"
     ]
    }
   ],
   "source": [
    "r_sq = linear_reg.score(X_test, Y_test)\n",
    "#print('Intercept:',linear_reg.intercept_)\n",
    "#print('Slope:',linear_reg.coef_)\n",
    "print(\"Coefficient of determination:\", r_sq)"
   ]
  },
  {
   "cell_type": "markdown",
   "metadata": {},
   "source": [
    "The simlpe linear regression is not a suitable model as it's R(squared) value is -0.3373."
   ]
  },
  {
   "cell_type": "markdown",
   "metadata": {},
   "source": [
    "### Task 4: Decision Tree"
   ]
  },
  {
   "cell_type": "code",
   "execution_count": 13,
   "metadata": {},
   "outputs": [],
   "source": [
    "df_cat = df[[\"txn_description\", \"gender\", \"age\", \"merchant_state\", \"movement\"]]"
   ]
  },
  {
   "cell_type": "code",
   "execution_count": 14,
   "metadata": {},
   "outputs": [
    {
     "data": {
      "text/html": [
       "<div>\n",
       "<style scoped>\n",
       "    .dataframe tbody tr th:only-of-type {\n",
       "        vertical-align: middle;\n",
       "    }\n",
       "\n",
       "    .dataframe tbody tr th {\n",
       "        vertical-align: top;\n",
       "    }\n",
       "\n",
       "    .dataframe thead th {\n",
       "        text-align: right;\n",
       "    }\n",
       "</style>\n",
       "<table border=\"1\" class=\"dataframe\">\n",
       "  <thead>\n",
       "    <tr style=\"text-align: right;\">\n",
       "      <th></th>\n",
       "      <th>age</th>\n",
       "      <th>txn_description_INTER BANK</th>\n",
       "      <th>txn_description_PAY/SALARY</th>\n",
       "      <th>txn_description_PAYMENT</th>\n",
       "      <th>txn_description_PHONE BANK</th>\n",
       "      <th>txn_description_POS</th>\n",
       "      <th>txn_description_SALES-POS</th>\n",
       "      <th>gender_F</th>\n",
       "      <th>gender_M</th>\n",
       "      <th>merchant_state_ACT</th>\n",
       "      <th>merchant_state_NSW</th>\n",
       "      <th>merchant_state_NT</th>\n",
       "      <th>merchant_state_QLD</th>\n",
       "      <th>merchant_state_SA</th>\n",
       "      <th>merchant_state_TAS</th>\n",
       "      <th>merchant_state_VIC</th>\n",
       "      <th>merchant_state_WA</th>\n",
       "      <th>movement_credit</th>\n",
       "      <th>movement_debit</th>\n",
       "    </tr>\n",
       "  </thead>\n",
       "  <tbody>\n",
       "    <tr>\n",
       "      <th>0</th>\n",
       "      <td>26</td>\n",
       "      <td>0</td>\n",
       "      <td>0</td>\n",
       "      <td>0</td>\n",
       "      <td>0</td>\n",
       "      <td>1</td>\n",
       "      <td>0</td>\n",
       "      <td>1</td>\n",
       "      <td>0</td>\n",
       "      <td>0</td>\n",
       "      <td>0</td>\n",
       "      <td>0</td>\n",
       "      <td>1</td>\n",
       "      <td>0</td>\n",
       "      <td>0</td>\n",
       "      <td>0</td>\n",
       "      <td>0</td>\n",
       "      <td>0</td>\n",
       "      <td>1</td>\n",
       "    </tr>\n",
       "    <tr>\n",
       "      <th>1</th>\n",
       "      <td>26</td>\n",
       "      <td>0</td>\n",
       "      <td>0</td>\n",
       "      <td>0</td>\n",
       "      <td>0</td>\n",
       "      <td>0</td>\n",
       "      <td>1</td>\n",
       "      <td>1</td>\n",
       "      <td>0</td>\n",
       "      <td>0</td>\n",
       "      <td>1</td>\n",
       "      <td>0</td>\n",
       "      <td>0</td>\n",
       "      <td>0</td>\n",
       "      <td>0</td>\n",
       "      <td>0</td>\n",
       "      <td>0</td>\n",
       "      <td>0</td>\n",
       "      <td>1</td>\n",
       "    </tr>\n",
       "    <tr>\n",
       "      <th>2</th>\n",
       "      <td>38</td>\n",
       "      <td>0</td>\n",
       "      <td>0</td>\n",
       "      <td>0</td>\n",
       "      <td>0</td>\n",
       "      <td>1</td>\n",
       "      <td>0</td>\n",
       "      <td>0</td>\n",
       "      <td>1</td>\n",
       "      <td>0</td>\n",
       "      <td>1</td>\n",
       "      <td>0</td>\n",
       "      <td>0</td>\n",
       "      <td>0</td>\n",
       "      <td>0</td>\n",
       "      <td>0</td>\n",
       "      <td>0</td>\n",
       "      <td>0</td>\n",
       "      <td>1</td>\n",
       "    </tr>\n",
       "    <tr>\n",
       "      <th>3</th>\n",
       "      <td>40</td>\n",
       "      <td>0</td>\n",
       "      <td>0</td>\n",
       "      <td>0</td>\n",
       "      <td>0</td>\n",
       "      <td>0</td>\n",
       "      <td>1</td>\n",
       "      <td>1</td>\n",
       "      <td>0</td>\n",
       "      <td>0</td>\n",
       "      <td>0</td>\n",
       "      <td>0</td>\n",
       "      <td>1</td>\n",
       "      <td>0</td>\n",
       "      <td>0</td>\n",
       "      <td>0</td>\n",
       "      <td>0</td>\n",
       "      <td>0</td>\n",
       "      <td>1</td>\n",
       "    </tr>\n",
       "    <tr>\n",
       "      <th>4</th>\n",
       "      <td>26</td>\n",
       "      <td>0</td>\n",
       "      <td>0</td>\n",
       "      <td>0</td>\n",
       "      <td>0</td>\n",
       "      <td>0</td>\n",
       "      <td>1</td>\n",
       "      <td>1</td>\n",
       "      <td>0</td>\n",
       "      <td>0</td>\n",
       "      <td>0</td>\n",
       "      <td>0</td>\n",
       "      <td>1</td>\n",
       "      <td>0</td>\n",
       "      <td>0</td>\n",
       "      <td>0</td>\n",
       "      <td>0</td>\n",
       "      <td>0</td>\n",
       "      <td>1</td>\n",
       "    </tr>\n",
       "  </tbody>\n",
       "</table>\n",
       "</div>"
      ],
      "text/plain": [
       "   age  txn_description_INTER BANK  txn_description_PAY/SALARY  \\\n",
       "0   26                           0                           0   \n",
       "1   26                           0                           0   \n",
       "2   38                           0                           0   \n",
       "3   40                           0                           0   \n",
       "4   26                           0                           0   \n",
       "\n",
       "   txn_description_PAYMENT  txn_description_PHONE BANK  txn_description_POS  \\\n",
       "0                        0                           0                    1   \n",
       "1                        0                           0                    0   \n",
       "2                        0                           0                    1   \n",
       "3                        0                           0                    0   \n",
       "4                        0                           0                    0   \n",
       "\n",
       "   txn_description_SALES-POS  gender_F  gender_M  merchant_state_ACT  \\\n",
       "0                          0         1         0                   0   \n",
       "1                          1         1         0                   0   \n",
       "2                          0         0         1                   0   \n",
       "3                          1         1         0                   0   \n",
       "4                          1         1         0                   0   \n",
       "\n",
       "   merchant_state_NSW  merchant_state_NT  merchant_state_QLD  \\\n",
       "0                   0                  0                   1   \n",
       "1                   1                  0                   0   \n",
       "2                   1                  0                   0   \n",
       "3                   0                  0                   1   \n",
       "4                   0                  0                   1   \n",
       "\n",
       "   merchant_state_SA  merchant_state_TAS  merchant_state_VIC  \\\n",
       "0                  0                   0                   0   \n",
       "1                  0                   0                   0   \n",
       "2                  0                   0                   0   \n",
       "3                  0                   0                   0   \n",
       "4                  0                   0                   0   \n",
       "\n",
       "   merchant_state_WA  movement_credit  movement_debit  \n",
       "0                  0                0               1  \n",
       "1                  0                0               1  \n",
       "2                  0                0               1  \n",
       "3                  0                0               1  \n",
       "4                  0                0               1  "
      ]
     },
     "execution_count": 14,
     "metadata": {},
     "output_type": "execute_result"
    }
   ],
   "source": [
    "pd.get_dummies(df_cat).head()"
   ]
  },
  {
   "cell_type": "code",
   "execution_count": 15,
   "metadata": {},
   "outputs": [],
   "source": [
    "# X_train columns\n",
    "x = pd.get_dummies(df_cat)\n",
    "y = df[\"annual_salary\"]"
   ]
  },
  {
   "cell_type": "code",
   "execution_count": 16,
   "metadata": {},
   "outputs": [],
   "source": [
    "# Create training and testing vars\n",
    "X_train, X_test, Y_train, Y_test = train_test_split(x, y, test_size = 0.2, random_state = 10)"
   ]
  },
  {
   "cell_type": "markdown",
   "metadata": {},
   "source": [
    "#### Regression"
   ]
  },
  {
   "cell_type": "code",
   "execution_count": 19,
   "metadata": {},
   "outputs": [
    {
     "data": {
      "text/plain": [
       "array([1327.11320755, 4405.        , 2588.        , ..., 2113.66666667,\n",
       "       3071.        , 3350.98333333])"
      ]
     },
     "execution_count": 19,
     "metadata": {},
     "output_type": "execute_result"
    }
   ],
   "source": [
    "decision_tree_reg = DecisionTreeRegressor()\n",
    "decision_tree_reg.fit(X_train, Y_train)\n",
    "decision_tree_reg.predict(X_test)"
   ]
  },
  {
   "cell_type": "code",
   "execution_count": 20,
   "metadata": {},
   "outputs": [
    {
     "name": "stdout",
     "output_type": "stream",
     "text": [
      "Accuracy of decision tree regression model: 0.7191301533058805\n"
     ]
    }
   ],
   "source": [
    "dt_reg = decision_tree_reg.score(X_test, Y_test)\n",
    "print(\"Accuracy of decision tree regression model:\", dt_reg)"
   ]
  },
  {
   "cell_type": "markdown",
   "metadata": {},
   "source": [
    "### Task 5: Which model is better?"
   ]
  },
  {
   "cell_type": "markdown",
   "metadata": {},
   "source": [
    "The decision tree regression model works better in our case. The decision tree regressor is able to achieve an accuracy of 71.91%. The simple linear regression model is a very bad model as it's R(squared) value is of a negative value. When a R(squared) value is negative, it means that the fit is actually worse than just fitting a horizontal line."
   ]
  }
 ],
 "metadata": {
  "kernelspec": {
   "display_name": "Python 3",
   "language": "python",
   "name": "python3"
  },
  "language_info": {
   "codemirror_mode": {
    "name": "ipython",
    "version": 3
   },
   "file_extension": ".py",
   "mimetype": "text/x-python",
   "name": "python",
   "nbconvert_exporter": "python",
   "pygments_lexer": "ipython3",
   "version": "3.7.1"
  }
 },
 "nbformat": 4,
 "nbformat_minor": 2
}
